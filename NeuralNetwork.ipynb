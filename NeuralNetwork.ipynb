{
 "cells": [
  {
   "cell_type": "code",
   "execution_count": 11,
   "metadata": {
    "tags": []
   },
   "outputs": [],
   "source": [
    "import numpy as np\n",
    "from tqdm.autonotebook import tqdm\n",
    "import time, json, sys, os\n",
    "\n",
    "trained_model_file = './TrainedModelData.sav'"
   ]
  },
  {
   "cell_type": "code",
   "execution_count": 12,
   "metadata": {},
   "outputs": [],
   "source": [
    "class SGD():\n",
    "\t\"\"\"\n",
    "\tSGD (short for Stochastic Gradient Descent), represents an optimization algorithm \n",
    "\tthat can be used to train a neural network model.\n",
    "\tThe __call__ method of the SGD class performs a single iteration of training, \n",
    "\twhich includes iterating over the training data in mini-batches, \n",
    "\tmaking predictions using the forward propagation method, and updating the model's weights and biases \n",
    "\tusing the back-propagation method. \n",
    "\tThe forward_propagation and back_propagation methods are helper methods that implement the \n",
    "\tforward and backward passes of the training algorithm, respectively. \n",
    "\tThe SGD class is initialized with a reference to the MLP model that it will be optimizing.\n",
    "\t\"\"\"\n",
    "\tdef __init__( self, model = None ):\n",
    "\t\tself.model         = model\n",
    "\t\tself.learning_rate = model.learning_rate\n",
    "\t\tself.lmbda         = model.lmbda\n",
    "\t\tself.loss          = model.loss\n",
    "\t\tself.activation    = model.activation\n",
    "\t\tself.num_layers    = model.num_layers\n",
    "\n",
    "\tdef __call__( self, batch, num_data ):\n",
    "\t\tnabla_W = [ np.zeros( w.shape ) for w in self.model.weights ]\n",
    "\t\tnabla_B = [ np.zeros( b.shape ) for b in self.model.biases ]\n",
    "\n",
    "\t\t\"\"\"\n",
    "\t\tThis loop calculates the gradient of loss with respect to all variables, \n",
    "\t\tsums them up and stores in nabla_Wm nabla_B lists,\n",
    "\t\t\"\"\"\n",
    "\t\tfor inputs, labels in batch:\n",
    "\t\t\ta  = inputs \t# Activation\n",
    "\t\t\tAs = [inputs] \t# list to store all the Activation matrix, layer by layer\n",
    "\t\t\tZs = []\t\t\t# list to store all the z vectors, layer by layer\n",
    "\n",
    "\t\t\tself.forward_propagation( a, As, Zs )\n",
    "\t\t\tdelta_Nabla_W, delta_Nabla_B = self.back_propagation(As, Zs, labels)\n",
    "\n",
    "\t\t\t# Summing up all the changes in weights amd biases\n",
    "\t\t\tnabla_W = [ nw + d_nw for nw, d_nw in zip( nabla_W, delta_Nabla_W ) ]\n",
    "\t\t\tnabla_B = [ nb + d_nb for nb, d_nb in zip( nabla_B, delta_Nabla_B ) ]\n",
    "\n",
    "\t\t# Taking steps towards the lowest loss function\n",
    "\t\t# lmbda, regularization parameter\n",
    "\t\tregularization  = 1 - ( self.learning_rate * ( self.lmbda / num_data ) )\n",
    "\t\tnw_coef = self.learning_rate / len(batch)\n",
    "\n",
    "\t\tself.model.weights = [\n",
    "\t\t\t( regularization * w ) - ( nw_coef * nw )\n",
    "\t\t\tfor w, nw in zip( self.model.weights, nabla_W )\n",
    "\t\t]\n",
    "\n",
    "\t\tself.model.biases = [ \n",
    "\t\t\tb - ( self.learning_rate / len(batch) ) * nb\n",
    "\t\t\tfor b, nb in zip( self.model.biases, nabla_B ) \n",
    "\t\t]\n",
    "\t\n",
    "\tdef forward_propagation( self, a, As=None, Zs=None  ):\n",
    "\t\t\"\"\"\n",
    "\t\tThis code defines a forward_propagation algorithm. \n",
    "\t\tIt is called during the training of out neural network.\n",
    "\n",
    "\t\tThe method takes three arguments:\n",
    "\n",
    "\t\ta  : a matrix of input activations\n",
    "\t\tAs : a list to store the activation matrices, layer by layer\n",
    "\t\tZs : a list to store the z vectors, layer by layer\n",
    "\n",
    "\t\tThe method uses the weights and biases of the model to perform a \n",
    "\t\tforward propagation through the network. \n",
    "\t\tThis means that the input activations \"a\" are passed through the network layer by layer, \n",
    "\t\tand the output activations are returned by the method.\n",
    "\n",
    "\t\tIn addition to returning the output activations, \n",
    "\t\tthe method also appends the intermediate activation matrices \n",
    "\t\tand z vectors to the As and Zs lists if they are provided. \n",
    "\t\tThese lists will be used later in the back-propagation step of training.\n",
    "\t\t\"\"\"\n",
    "\t\tfor W, b in zip( self.model.weights, self.model.biases ):\n",
    "\t\t\tz = np.dot( W, a ) + b\n",
    "\t\t\tif Zs != None : Zs.append(z)\n",
    "\n",
    "\t\t\ta = self.activation(z)\n",
    "\t\t\tif As != None : As.append(a)\n",
    "\t\treturn a\n",
    "\t\n",
    "\tdef back_propagation( self, As, Zs, labels ):\n",
    "\t\t\"\"\"\n",
    "\t\tThis function is implementing back-propagation, a method for training a neural network. \n",
    "\t\tThe back-propagation algorithm is used to calculate the gradient of the loss function with respect to \n",
    "\t\tthe weights and biases of the network. This is used to update the weights and biases to reduce the loss \n",
    "\t\tand improve the performance of the network on a given task.\n",
    "\n",
    "\t\tIt takes three arguments: \n",
    "\t\tAs\t\t : a list to store the activation matrices, layer by layer\n",
    "\t\tZs\t\t : a list to store the z vectors, layer by layer , where z = (a * w) + b\n",
    "\t\tlabels : a numpy array of target values for the network.\n",
    "\n",
    "\t\tFirst the method initializes two lists, nabla_W and nabla_B, to store the gradients of the loss function \n",
    "\t\twith respect to the weights and biases of the network, respectively. \n",
    "\t\tThese are initialized to be arrays of zeros with the same shape as the weight and bias arrays of the network.\n",
    "\n",
    "\t\tNext, it calculates the gradient of the loss with respect to the output of the network, \n",
    "\t\tand stores the result in delta_error. It then uses this to calculate the gradient of the loss with respect to \n",
    "\t\tthe final layer's weights and biases, and stores these in nabla_W and nabla_B, respectively.\n",
    "\n",
    "\t\tIt then loops through the layers of the network in reverse order (from the second-to-last layer to the first layer), \n",
    "\t\tand uses the previously calculated gradients to compute the gradients of the loss with respect to the weights and biases \n",
    "\t\tof each layer.\n",
    "\n",
    "\t\tFinally, the method returns the calculated gradients in nabla_W and nabla_B.\n",
    "\t\t\"\"\"\n",
    "\t\tnabla_W = [ np.zeros( w.shape ) for w in self.model.weights ]\n",
    "\t\tnabla_B = [ np.zeros( b.shape ) for b in self.model.biases ]\n",
    "\n",
    "\t\tdelta_error = self.loss.delta( As[-1], labels )\n",
    "\t\tnabla_W[-1] = np.dot( delta_error, As[-2].transpose() )\n",
    "\t\tnabla_B[-1] = delta_error\n",
    "\t\n",
    "\t\t# Backwards pass / Back-propagation\n",
    "\t\tfor l in range(2, self.num_layers):\n",
    "\t\t\tdelta_error = np.dot( self.model.weights[-l + 1].transpose(), delta_error ) * self.activation.prime( Zs[-l] )\n",
    "\t\t\tnabla_W[-l] = np.dot( delta_error, As[-l - 1].transpose() )\n",
    "\t\t\tnabla_B[-l] = delta_error\n",
    "\n",
    "\t\treturn nabla_W, nabla_B"
   ]
  },
  {
   "cell_type": "code",
   "execution_count": 13,
   "metadata": {},
   "outputs": [],
   "source": [
    "class CrossEntropyLoss():\n",
    "\t\"\"\"\n",
    "\tCrossEntropyLoss implements the cross-entropy loss function for a binary classification task.\n",
    "\tIt measures the difference between the predicted probability distribution over classes and \n",
    "\tthe true probability distribution over classes.\n",
    "\t\"\"\"\n",
    "\t@staticmethod\n",
    "\tdef func(a, y):\n",
    "\t\t\"\"\"\n",
    "\t\tThe func method takes two arguments, a and y, and calculates the cross-entropy loss for a given prediction a \n",
    "\t\tand true label y. This is done by summing the cross-entropy loss for each example in the batch of data.\n",
    "\t\t\"\"\"\n",
    "\t\treturn np.sum( np.nan_to_num( -y * np.log(a) - (1-y) * np.log(1-a) ) )\n",
    "\n",
    "\t@staticmethod\n",
    "\tdef delta(a, y):\n",
    "\t\t\"\"\"\n",
    "\t\tThe delta method calculates the gradient of the cross-entropy loss with respect to the output of the network. \n",
    "\t\tIt simply returns the difference between the predicted probabilities (a) and the true labels (y). \n",
    "\t\tThis is used in the back-propagation algorithm to calculate the gradient of the loss with respect to the \n",
    "\t\tweights and biases of the network.\n",
    "\t\t\"\"\"\n",
    "\t\treturn ( a - y )"
   ]
  },
  {
   "cell_type": "code",
   "execution_count": 14,
   "metadata": {},
   "outputs": [],
   "source": [
    "class Sigmoid():\n",
    "\t\"\"\"\n",
    "\tThe sigmoid function is often used as the activation function for neurons in a neural network. \n",
    "\tIt maps a real-valued input to a value between 0 and 1, which can be interpreted as a probability.\n",
    "\t\"\"\"\n",
    "\tdef __call__( self, z ):\n",
    "\t\t\"\"\"\n",
    "\t\tThis method is called when an instance of the class is called as a function, \n",
    "\t\tand it calculates the sigmoid function for the given input z.\n",
    "\t\t\"\"\"\n",
    "\t\treturn 1.0 / ( 1.0 + np.exp(-z) )\n",
    "\n",
    "\tdef prime( self, z ):\n",
    "\t\t\"\"\"\n",
    "\t\tThe prime method calculates the derivative of the sigmoid function for the given input z. \n",
    "\t\tThis is used in the back-propagation algorithm to calculate the gradient of the loss with respect to the inputs to each neuron in the network.\n",
    "\t\t\"\"\"\n",
    "\t\treturn self( z ) * ( 1.0 - self( z ) )"
   ]
  },
  {
   "cell_type": "code",
   "execution_count": 15,
   "metadata": {},
   "outputs": [],
   "source": [
    "class MLP( object ):\n",
    "\t\"\"\"\n",
    "\tA basic Multi-Layers Perceptron model, which represents a basic neural network model. \n",
    "\tThe class constructor ( __init__ ) takes several parameters that specify the model's configuration, \n",
    "\tsuch as the number of layers in the network, the type of optimizer and loss function to use, and the learning rate. \n",
    "\tThe fit method trains the model on a given dataset, while the predict method uses the trained model \n",
    "\tto make inference on new data.\n",
    "\tThe MLP class also includes several helper methods such as __make_batches which divides the training data \n",
    "\tinto batches, and __load_variables which loads previously saved weights and biases for the model.\n",
    "\t\"\"\"\n",
    "\tdef __init__( \n",
    "\t\t\tself,\n",
    "\t\t\tlayers        = [784,30,10],\n",
    "\t\t\toptimizer     = SGD,\n",
    "\t\t\tloss          = CrossEntropyLoss,\n",
    "\t\t\tactivation    = Sigmoid,\n",
    "\t\t\tlearning_rate = 0.1,\n",
    "\t\t\tlmbda         = 5.0,\n",
    "\t\t):\n",
    "\t\tself.num_layers    = len(layers)\n",
    "\t\tself.layers        = layers\n",
    "\t\tself.loss          = loss()\n",
    "\t\tself.activation    = activation()\n",
    "\t\tself.learning_rate = learning_rate\n",
    "\t\tself.lmbda         = lmbda\n",
    "\t\tself.optimizer     = optimizer( model=self )\n",
    "\t\tself.weights       = [ \n",
    "\t\t\tnp.random.randn(y, x) / np.sqrt(x)\n",
    "\t\t\tfor x, y in zip( layers[:-1], layers[1:] )\n",
    "\t\t]\n",
    "\t\tself.biases\t= [ np.random.randn(y, 1) for y in layers[1:] ]\n",
    "\t\tself.is_last_epoch = False\n",
    "\t\tself.num_train_data = 0\n",
    "\t\tself.epoch_start_time = 0\n",
    "\t\n",
    "\tdef fit(\n",
    "\t\t\tself, \n",
    "\t\t\ttrain_data     = None,\n",
    "\t\t\tval_data       = None,\n",
    "\t\t\tepochs         = 10,\n",
    "\t\t\tbatch_size     = 32,\n",
    "\t\t\tcontinue_train = False,\n",
    "\t\t\tmonitor        = None\n",
    "\t\t):\n",
    "\t\tself.num_train_data = len( train_data )\n",
    "\n",
    "\t\tif ( continue_train ):\n",
    "\t\t\tself.__load_viriables()\n",
    "\t\n",
    "\t\tepochs_progress_bar = tqdm( range(epochs), ncols=85, position=0 )\n",
    "\t\tfor epoch in epochs_progress_bar:\n",
    "\t\t\t\"\"\"\n",
    "\t\t\tThis is the training loop for our neural network. \n",
    "\t\t\tIt iterates through a number of epochs (passes over the training data) and within each epoch, \n",
    "\t\t\tit splits the training data into batches and trains the model on each batch using the specified optimizer.\n",
    "\t\t\tFor each epoch, it also calls the monitor function to record the training and validation metrics.\n",
    "\t\t\tThe epochs_progress_bar and batches_progress_bar are using the tqdm library to show progress bars for the training loop.\n",
    "\t\t\t\"\"\"\n",
    "\t\t\tself.epoch_start_time   = time.time()\n",
    "\t\t\tself.is_last_epoch = True if epoch+1 == epochs else False\n",
    "\t\t\tepochs_progress_bar.set_description( f'Epoch {epoch+1}' )\n",
    "\t\t\tbatches = self.__make_batches( train_data, batch_size )\n",
    "\n",
    "\t\t\tbatches_progress_bar = tqdm(batches, desc=f'Batch', ncols=75, position=1, ascii=False, leave=False)\n",
    "\t\t\tfor batch in batches_progress_bar:\n",
    "\t\t\t\tself.optimizer( batch, self.num_train_data )\n",
    "\n",
    "\t\t\tif ( monitor != None ):\n",
    "\t\t\t\tmonitor( self, epoch, self.epoch_start_time, self.num_train_data, train_data, val_data )\n",
    "\t\t\t\n",
    "\tdef __load_viriables(self):\n",
    "\t\twith open(trained_model_file, \"r\") as f:\n",
    "\t\t\tdata = json.load(f)\n",
    "\t\tself.weights = [np.array(w) for w in data[\"weights\"]]\n",
    "\t\tself.biases  = [np.array(b) for b in data[\"biases\"]]\n",
    "\t\tprint( \"Last saved, Hidden neurons: \", len( self.weights[0] ), \", \", data[\"accuracy\"] )\n",
    "\t\n",
    "\tdef __make_batches( self, data, batch_size ):\n",
    "\t\tnp.random.shuffle( data )\n",
    "\t\t# Creating batches out of training data\n",
    "\t\tbatches = [\n",
    "\t\t\tdata[ k : k + batch_size ]\n",
    "\t\t\tfor k in range( 0, self.num_train_data, batch_size )\n",
    "\t\t]\n",
    "\t\treturn batches\n",
    "\n",
    "\tdef predict(self, x):\n",
    "\t\ta = self.optimizer.forward_propagation( x )\n",
    "\t\treturn ( np.argmax(a) )"
   ]
  },
  {
   "cell_type": "code",
   "execution_count": 16,
   "metadata": {},
   "outputs": [],
   "source": [
    "class Monitor():\n",
    "\t\"\"\"\n",
    "\tThis class monitors the performance of the model. \n",
    "\tIt has attributes for tracking whether training and validation data should be monitored, \n",
    "\tas well as whether the current model parameters should be saved if they yield the best performance so far. \n",
    "\tThe Monitor class also has methods for computing the total loss and accuracy on a given dataset, \n",
    "\tand for printing the current values of these metrics. \n",
    "\tWhen the __call__ method of the Monitor instance is invoked, it updates the relevant metrics and prints them.\n",
    "\t\"\"\"\n",
    "\tdef __init__( self, training=False, validation=True, save=False ):\n",
    "\t\tself.training   = training\n",
    "\t\tself.validation = validation\n",
    "\t\tself.save       = save\n",
    "\n",
    "\t\tself.evaluation_loss, self.evaluation_accuracy = [], []\n",
    "\t\tself.training_loss, self.training_accuracy = [], []\n",
    "\t\tself.maxAccuracy = 0;\n",
    "\t\tself.max_w       = []\n",
    "\t\tself.max_b       = []\n",
    "\t\tself.train_loss, self.train_accuracy, self.val_loss, self.val_accuracy = 0,0,0,0\n",
    "\t\n",
    "\tdef __call__( self, model, epoch, epoch_start_time, num_train_data, train_data, val_data ):\n",
    "\t\tself.model = model\n",
    "\t\tself.is_val_data = val_data != None\n",
    "\t\t\n",
    "\t\tif self.training:\n",
    "\t\t\tself.train_loss = self.total_loss(train_data)\n",
    "\t\t\tself.training_loss.append(self.train_loss)\n",
    "\t\n",
    "\t\t\tself.train_accuracy = self.accuracy(train_data, convert=True)\n",
    "\t\t\tself.training_accuracy.append(self.train_accuracy)\n",
    "\n",
    "\t\tif self.is_val_data & self.validation:\n",
    "\t\t\tself.num_val_data = len( val_data )\n",
    "\t\t\tself.val_loss = self.total_loss(val_data, convert=True)\n",
    "\t\t\tself.evaluation_loss.append(self.val_loss)\n",
    "\n",
    "\t\t\tself.val_accuracy = self.accuracy(val_data)\n",
    "\t\t\tself.evaluation_accuracy.append(self.val_accuracy)\n",
    "\t\t\n",
    "\t\tself.print_metrics( epoch, epoch_start_time, num_train_data )\n",
    "\n",
    "\tdef print_metrics( self, epoch, epoch_start_time, num_train_data ):\n",
    "\t\t\"\"\"\n",
    "\t\tPrints the relevant training metrics to the console.\n",
    "\t\t\"\"\"\n",
    "\t\tloss       = round( self.train_loss, 2 ) if self.training  else 0\n",
    "\t\taccuracy   = round( ( self.train_accuracy/num_train_data ), 2 ) if self.training  else 0\n",
    "\t\tv_loss     = round( self.val_loss, 2 ) if self.is_val_data & self.validation  else 0\n",
    "\t\tv_accuracy = round( ( self.val_accuracy/self.num_val_data ), 2 ) if self.is_val_data & self.validation  else 0\n",
    "\t\tepoch_time = str( round( time.time() - epoch_start_time, 2 ) ) + \"s\"\n",
    "\t\tif self.training & self.is_val_data & self.validation:\n",
    "\t\t\ttqdm.write( \n",
    "\t\t\t\tf'{str(epoch+1):3s}: {\"loss\"}: {str(loss):4s} — {\"accuracy\"}: {str(accuracy):4s} — {\"val_loss\"}: {str(v_loss):4s} — {\"val_accuracy\"}: {str(v_accuracy):4s} — {epoch_time}' \n",
    "\t\t\t)\n",
    "\t\t\t\n",
    "\t\telif self.training & ( (self.is_val_data == False) or (self.validation == False) ):\n",
    "\t\t\ttqdm.write( \n",
    "\t\t\t\tf'{str(epoch+1):3s}: {\"loss\"}: {str(loss):4s} — {\"accuracy\"}: {str(accuracy):4s} — {epoch_time}' \n",
    "\t\t\t)\n",
    "\n",
    "\t\telif self.is_val_data & self.validation & (self.training == False):\n",
    "\t\t\ttqdm.write( \n",
    "\t\t\t\tf'{str(epoch+1):3s}: {\"val_loss\"}: {str(v_loss):4s} — {\"val_accuracy\"}: {str(v_accuracy):4s} — {epoch_time}' \n",
    "\t\t\t)\n",
    "\n",
    "\t\tif ( self.val_accuracy > self.maxAccuracy ):\n",
    "\t\t\tself.maxAccuracy = self.val_accuracy\n",
    "\t\t\tself.max_w, self.max_b = self.model.weights, self.model.biases\n",
    "\n",
    "\t\tif ( self.save ): \n",
    "\t\t\tself.save_model()\n",
    "\t\t\tif ( self.model.is_last_epoch ):\n",
    "\t\t\t\tself.model.weights, self.model.biases = self.max_w, self.max_b\n",
    "\t\t\t\tself.save_model()\n",
    "\n",
    "\tdef save_model( self ):\n",
    "\t\t\"\"\"\n",
    "\t\tSaves the model variables.\n",
    "\t\t\"\"\"\n",
    "\t\tdata = {\n",
    "\t\t\t\"layers\"       : self.model.layers,\n",
    "\t\t\t\"weights\"      : [ w.tolist() for w in self.model.weights ],\n",
    "\t\t\t\"biases\"       : [ b.tolist() for b in self.model.biases ],\n",
    "\t\t\t\"optimizer\"    : str( self.model.optimizer.__class__.__name__ ),\n",
    "\t\t\t\"loss\"         : str( self.model.loss.__class__.__name__ ),\n",
    "\t\t\t\"activation\"   : str( self.model.activation.__class__.__name__ ),\n",
    "\t\t\t\"learning_rate\": self.model.learning_rate,\n",
    "\t\t\t\"lmbda\"        : self.model.lmbda,\n",
    "\t\t\t\"accuracy\"     : self.maxAccuracy,\n",
    "\t\t}\n",
    "\t\twith open(trained_model_file, \"w\") as f:\n",
    "\t\t\tjson.dump(data, f)\n",
    "\n",
    "\tdef history(self):\n",
    "\t\treturn self.evaluation_loss, self.evaluation_accuracy, \\\n",
    "\t\t\tself.training_loss, self.training_accuracy\n",
    "\n",
    "\tdef accuracy(self, data, convert=False):\n",
    "\t\t\"\"\"\n",
    "\t\tThe accuracy method takes a list of data as input, where each data point consists of input values and \n",
    "\t\tcorresponding labels. The convert parameter determines whether the labels in the data should be converted \n",
    "\t\tto their index in the label vector (for example, the label vector [0, 0, 1, 0, 0, 0, 0, 0, 0, 0] \n",
    "\t\twould be converted to 2). \n",
    "\t\tThe method computes the accuracy of the model's predictions on the input data by comparing the \n",
    "\t\tmodel's predicted label with the true label for each data point. The predicted labels are obtained by \n",
    "\t\tusing the model's forward_propagation method on the input values. \n",
    "\t\tThe method returns the percentage of correct predictions.\n",
    "\t\t\"\"\"\n",
    "\t\tresults = [\n",
    "\t\t\t( np.argmax( self.model.optimizer.forward_propagation( x ) ), np.argmax( y ) )\n",
    "\t\t\tfor x, y in tqdm( data, desc=\"Accuracy\", ncols=75, leave=False, position=1 )\n",
    "\t\t] if convert else [\n",
    "\t\t\t( np.argmax( self.model.optimizer.forward_propagation( x ) ), y )\n",
    "\t\t\tfor x, y in tqdm( data, desc=\"Accuracy\", ncols=75, leave=False, position=1 )\n",
    "\t\t]\n",
    "\t\treturn sum( int( x == y ) for ( x, y ) in results )\n",
    "\n",
    "\tdef total_loss(self, data, convert=False):\n",
    "\t\t\"\"\"\n",
    "\t\tThis method calculates the average loss across all the examples in the dataset.\n",
    "\t\tIt also includes a regularization term (lambda) to penalize large weights.\n",
    "\t\t\"\"\"\n",
    "\t\tloss = 0.0\n",
    "\t\tfor x, y in tqdm(data, desc=\"Cost\", ncols=75, leave=False, position=1):\n",
    "\t\t\ta = self.model.optimizer.forward_propagation(x)\n",
    "\t\t\ty = vectorized_result(y) if convert else y\n",
    "\t\t\tloss += self.model.loss.func(a, y)/len(data)\n",
    "\n",
    "\t\tloss += 0.5*( self.model.optimizer.lmbda / len( data ) ) * \\\n",
    "\t\t\tsum( np.linalg.norm(w)**2 for w in self.model.weights )\n",
    "\t\treturn loss"
   ]
  },
  {
   "cell_type": "code",
   "execution_count": 17,
   "metadata": {},
   "outputs": [],
   "source": [
    "def load_model():\n",
    "\t\"\"\"\n",
    "\tReturns a trained model.\n",
    "\t\"\"\"\n",
    "\twith open(trained_model_file, \"r\") as f:\n",
    "\t\tdata = json.load(f)\n",
    "\n",
    "\toptimizer  = getattr(sys.modules[__name__], data[\"optimizer\"])\n",
    "\tloss       = getattr(sys.modules[__name__], data[\"loss\"])\n",
    "\tactivation = getattr(sys.modules[__name__], data[\"activation\"])\n",
    "\tmodel      = MLP( \n",
    "\t\tdata[\"layers\"],\n",
    "\t\toptimizer     = optimizer,\n",
    "\t\tloss          = loss,\n",
    "\t\tactivation    = activation,\n",
    "\t\tlearning_rate = data[\"learning_rate\"],\n",
    "\t\tlmbda         = data[\"lmbda\"],\n",
    "\t)\n",
    "\n",
    "\tmodel.weights = [np.array(w) for w in data[\"weights\"]]\n",
    "\tmodel.biases  = [np.array(b) for b in data[\"biases\"]]\n",
    "\treturn model\n",
    "\n",
    "def model_accuracy():\n",
    "\t\"\"\"\n",
    "\tReturns the trained model accuracy.\n",
    "\t\"\"\"\n",
    "\twith open(trained_model_file, \"r\") as f:\n",
    "\t\tdata = json.load(f)\n",
    "\treturn data[\"accuracy\"]\n",
    "\n",
    "def vectorized_result(j):\n",
    "\te = np.zeros((10, 1))\n",
    "\te[j] = 1.0\n",
    "\treturn e"
   ]
  },
  {
   "cell_type": "code",
   "execution_count": 18,
   "metadata": {},
   "outputs": [
    {
     "data": {
      "application/vnd.jupyter.widget-view+json": {
       "model_id": "3ac0f021eaff4b63b5ef16ea5b9a0d0a",
       "version_major": 2,
       "version_minor": 0
      },
      "text/plain": [
       "  0%|                                                          | 0/5 [00:00<?, ?it/s]"
      ]
     },
     "metadata": {},
     "output_type": "display_data"
    },
    {
     "data": {
      "application/vnd.jupyter.widget-view+json": {
       "model_id": "d8a1f6398ab54669a5ddfab2d759c7b2",
       "version_major": 2,
       "version_minor": 0
      },
      "text/plain": [
       "Batch:   0%|                                       | 0/313 [00:00<?, ?it/s]"
      ]
     },
     "metadata": {},
     "output_type": "display_data"
    },
    {
     "data": {
      "application/vnd.jupyter.widget-view+json": {
       "model_id": "de68bafc1d0940819e7183410455dd70",
       "version_major": 2,
       "version_minor": 0
      },
      "text/plain": [
       "Cost:   0%|                                      | 0/10000 [00:00<?, ?it/s]"
      ]
     },
     "metadata": {},
     "output_type": "display_data"
    },
    {
     "data": {
      "application/vnd.jupyter.widget-view+json": {
       "model_id": "33890c1da40c48149535b02fc2d006fc",
       "version_major": 2,
       "version_minor": 0
      },
      "text/plain": [
       "Accuracy:   0%|                                  | 0/10000 [00:00<?, ?it/s]"
      ]
     },
     "metadata": {},
     "output_type": "display_data"
    },
    {
     "data": {
      "application/vnd.jupyter.widget-view+json": {
       "model_id": "3ab511982a984df58670f7093a7a1287",
       "version_major": 2,
       "version_minor": 0
      },
      "text/plain": [
       "Cost:   0%|                                       | 0/1000 [00:00<?, ?it/s]"
      ]
     },
     "metadata": {},
     "output_type": "display_data"
    },
    {
     "data": {
      "application/vnd.jupyter.widget-view+json": {
       "model_id": "55d463ffd8ca4e26b845809da59f1827",
       "version_major": 2,
       "version_minor": 0
      },
      "text/plain": [
       "Accuracy:   0%|                                   | 0/1000 [00:00<?, ?it/s]"
      ]
     },
     "metadata": {},
     "output_type": "display_data"
    },
    {
     "name": "stdout",
     "output_type": "stream",
     "text": [
      "1  : loss: 1.77 — accuracy: 0.8  — val_loss: 2.07 — val_accuracy: 0.76 — 3.4s\n"
     ]
    },
    {
     "data": {
      "application/vnd.jupyter.widget-view+json": {
       "model_id": "82f7fb2a42fc4a9a845ad9e361e02c4a",
       "version_major": 2,
       "version_minor": 0
      },
      "text/plain": [
       "Batch:   0%|                                       | 0/313 [00:00<?, ?it/s]"
      ]
     },
     "metadata": {},
     "output_type": "display_data"
    },
    {
     "data": {
      "application/vnd.jupyter.widget-view+json": {
       "model_id": "b0b65968670641da9395e9824ba96ac2",
       "version_major": 2,
       "version_minor": 0
      },
      "text/plain": [
       "Cost:   0%|                                      | 0/10000 [00:00<?, ?it/s]"
      ]
     },
     "metadata": {},
     "output_type": "display_data"
    },
    {
     "data": {
      "application/vnd.jupyter.widget-view+json": {
       "model_id": "7b142bfc41bb489897b17612c8fe8590",
       "version_major": 2,
       "version_minor": 0
      },
      "text/plain": [
       "Accuracy:   0%|                                  | 0/10000 [00:00<?, ?it/s]"
      ]
     },
     "metadata": {},
     "output_type": "display_data"
    },
    {
     "data": {
      "application/vnd.jupyter.widget-view+json": {
       "model_id": "6162a24353ad4a72998b31669115a783",
       "version_major": 2,
       "version_minor": 0
      },
      "text/plain": [
       "Cost:   0%|                                       | 0/1000 [00:00<?, ?it/s]"
      ]
     },
     "metadata": {},
     "output_type": "display_data"
    },
    {
     "data": {
      "application/vnd.jupyter.widget-view+json": {
       "model_id": "9f2fa5c8e33245b29a4fe055e9fe407d",
       "version_major": 2,
       "version_minor": 0
      },
      "text/plain": [
       "Accuracy:   0%|                                   | 0/1000 [00:00<?, ?it/s]"
      ]
     },
     "metadata": {},
     "output_type": "display_data"
    },
    {
     "name": "stdout",
     "output_type": "stream",
     "text": [
      "2  : loss: 1.21 — accuracy: 0.86 — val_loss: 1.71 — val_accuracy: 0.83 — 3.25s\n"
     ]
    },
    {
     "data": {
      "application/vnd.jupyter.widget-view+json": {
       "model_id": "733817ee4bca425d8152e897a7c5016e",
       "version_major": 2,
       "version_minor": 0
      },
      "text/plain": [
       "Batch:   0%|                                       | 0/313 [00:00<?, ?it/s]"
      ]
     },
     "metadata": {},
     "output_type": "display_data"
    },
    {
     "data": {
      "application/vnd.jupyter.widget-view+json": {
       "model_id": "2928046f4d084f26960d3f9ab9933f0c",
       "version_major": 2,
       "version_minor": 0
      },
      "text/plain": [
       "Cost:   0%|                                      | 0/10000 [00:00<?, ?it/s]"
      ]
     },
     "metadata": {},
     "output_type": "display_data"
    },
    {
     "data": {
      "application/vnd.jupyter.widget-view+json": {
       "model_id": "532bfe06a41d4b8fbaa7a64376cd8121",
       "version_major": 2,
       "version_minor": 0
      },
      "text/plain": [
       "Accuracy:   0%|                                  | 0/10000 [00:00<?, ?it/s]"
      ]
     },
     "metadata": {},
     "output_type": "display_data"
    },
    {
     "data": {
      "application/vnd.jupyter.widget-view+json": {
       "model_id": "f8063b426d1a4a90a42c34884db5fdc6",
       "version_major": 2,
       "version_minor": 0
      },
      "text/plain": [
       "Cost:   0%|                                       | 0/1000 [00:00<?, ?it/s]"
      ]
     },
     "metadata": {},
     "output_type": "display_data"
    },
    {
     "data": {
      "application/vnd.jupyter.widget-view+json": {
       "model_id": "db1661db3e7a4256bd444fe17a242849",
       "version_major": 2,
       "version_minor": 0
      },
      "text/plain": [
       "Accuracy:   0%|                                   | 0/1000 [00:00<?, ?it/s]"
      ]
     },
     "metadata": {},
     "output_type": "display_data"
    },
    {
     "name": "stdout",
     "output_type": "stream",
     "text": [
      "3  : loss: 0.99 — accuracy: 0.89 — val_loss: 1.64 — val_accuracy: 0.86 — 3.41s\n"
     ]
    },
    {
     "data": {
      "application/vnd.jupyter.widget-view+json": {
       "model_id": "d033fa4a1bf64ee3b3d6ec3adca4bb91",
       "version_major": 2,
       "version_minor": 0
      },
      "text/plain": [
       "Batch:   0%|                                       | 0/313 [00:00<?, ?it/s]"
      ]
     },
     "metadata": {},
     "output_type": "display_data"
    },
    {
     "data": {
      "application/vnd.jupyter.widget-view+json": {
       "model_id": "af0e77ab40f940188ae60c71d3789e4c",
       "version_major": 2,
       "version_minor": 0
      },
      "text/plain": [
       "Cost:   0%|                                      | 0/10000 [00:00<?, ?it/s]"
      ]
     },
     "metadata": {},
     "output_type": "display_data"
    },
    {
     "data": {
      "application/vnd.jupyter.widget-view+json": {
       "model_id": "ed039459bf9c4e25b057b65d3cc9e8fc",
       "version_major": 2,
       "version_minor": 0
      },
      "text/plain": [
       "Accuracy:   0%|                                  | 0/10000 [00:00<?, ?it/s]"
      ]
     },
     "metadata": {},
     "output_type": "display_data"
    },
    {
     "data": {
      "application/vnd.jupyter.widget-view+json": {
       "model_id": "06302c1e6c3f4049a4f64e8d27f93f92",
       "version_major": 2,
       "version_minor": 0
      },
      "text/plain": [
       "Cost:   0%|                                       | 0/1000 [00:00<?, ?it/s]"
      ]
     },
     "metadata": {},
     "output_type": "display_data"
    },
    {
     "data": {
      "application/vnd.jupyter.widget-view+json": {
       "model_id": "1cdbd39a81a4467a9ffb0ca4568891fa",
       "version_major": 2,
       "version_minor": 0
      },
      "text/plain": [
       "Accuracy:   0%|                                   | 0/1000 [00:00<?, ?it/s]"
      ]
     },
     "metadata": {},
     "output_type": "display_data"
    },
    {
     "name": "stdout",
     "output_type": "stream",
     "text": [
      "4  : loss: 0.88 — accuracy: 0.9  — val_loss: 1.64 — val_accuracy: 0.88 — 3.43s\n"
     ]
    },
    {
     "data": {
      "application/vnd.jupyter.widget-view+json": {
       "model_id": "213e7d5a59674de7ba20c84cbfdb25b5",
       "version_major": 2,
       "version_minor": 0
      },
      "text/plain": [
       "Batch:   0%|                                       | 0/313 [00:00<?, ?it/s]"
      ]
     },
     "metadata": {},
     "output_type": "display_data"
    },
    {
     "data": {
      "application/vnd.jupyter.widget-view+json": {
       "model_id": "65acd9c18e5949d68f7bb861468121d8",
       "version_major": 2,
       "version_minor": 0
      },
      "text/plain": [
       "Cost:   0%|                                      | 0/10000 [00:00<?, ?it/s]"
      ]
     },
     "metadata": {},
     "output_type": "display_data"
    },
    {
     "data": {
      "application/vnd.jupyter.widget-view+json": {
       "model_id": "fd159f551d2047a6b5f793399a4ca47b",
       "version_major": 2,
       "version_minor": 0
      },
      "text/plain": [
       "Accuracy:   0%|                                  | 0/10000 [00:00<?, ?it/s]"
      ]
     },
     "metadata": {},
     "output_type": "display_data"
    },
    {
     "data": {
      "application/vnd.jupyter.widget-view+json": {
       "model_id": "ccbcc4dc60334294b051757a9b6b9dc2",
       "version_major": 2,
       "version_minor": 0
      },
      "text/plain": [
       "Cost:   0%|                                       | 0/1000 [00:00<?, ?it/s]"
      ]
     },
     "metadata": {},
     "output_type": "display_data"
    },
    {
     "data": {
      "application/vnd.jupyter.widget-view+json": {
       "model_id": "ab3b4af5d499428d955f9ed06e1a7b49",
       "version_major": 2,
       "version_minor": 0
      },
      "text/plain": [
       "Accuracy:   0%|                                   | 0/1000 [00:00<?, ?it/s]"
      ]
     },
     "metadata": {},
     "output_type": "display_data"
    },
    {
     "name": "stdout",
     "output_type": "stream",
     "text": [
      "5  : loss: 0.81 — accuracy: 0.91 — val_loss: 1.66 — val_accuracy: 0.89 — 3.39s\n",
      "Prediction      Ground Truth\n",
      "     1                1\n",
      "     0                0\n",
      "     8                8\n",
      "     4                4\n",
      "     8                8\n",
      "     9                9\n",
      "     4                9\n",
      "     2                2\n",
      "     6                6\n",
      "     0                0\n"
     ]
    }
   ],
   "source": [
    "import mnist_loader\n",
    "\n",
    "train_data, val_data = mnist_loader.load_data_wrapper()\n",
    "\n",
    "model = MLP( \n",
    "\tlayers        = [ 784, 30, 10 ],\n",
    "\toptimizer     = SGD,\n",
    "\tloss          = CrossEntropyLoss,\n",
    "\tactivation    = Sigmoid,\n",
    "\tlearning_rate = 0.1,\n",
    "\tlmbda         = 5.0,\n",
    ")\n",
    "\n",
    "monitor = Monitor(\n",
    "\ttraining   = True,\n",
    "\tvalidation = True,\n",
    "\tsave       = False,\n",
    ")\n",
    "\n",
    "if 0:\n",
    "\tmodel.fit(\n",
    "\t\ttrain_data     = train_data[:10000],\n",
    "\t\tval_data       = val_data[:1000],\n",
    "\t\tepochs         = 5,\n",
    "\t\tbatch_size     = 32,\n",
    "\t\tcontinue_train = False,\n",
    "\t\tmonitor        = monitor\n",
    "\t)\n",
    "\tevaluation_cost, evaluation_accuracy, \\\n",
    "\ttraining_cost, training_accuracy = monitor.history()\n",
    "\n",
    "model   = load_model()\n",
    "n_preds = 10\n",
    "np.random.shuffle(val_data)\n",
    "\n",
    "print( f'{\"Prediction\":15s} {\"Ground Truth\"}' )\n",
    "for i in range(n_preds):\n",
    "\tprint( f'{\"\":5s}{ str(model.predict( val_data[i][0] )):16s} {val_data[i][1]}' )\n"
   ]
  }
 ],
 "metadata": {
  "kernelspec": {
   "display_name": "Python 3",
   "language": "python",
   "name": "python3"
  },
  "language_info": {
   "codemirror_mode": {
    "name": "ipython",
    "version": 3
   },
   "file_extension": ".py",
   "mimetype": "text/x-python",
   "name": "python",
   "nbconvert_exporter": "python",
   "pygments_lexer": "ipython3",
   "version": "3.10.6"
  },
  "orig_nbformat": 4,
  "vscode": {
   "interpreter": {
    "hash": "1ab41e39c88aca726516e64836adb3baadd455e52bdb5f7c2d51dfedaf114bb3"
   }
  }
 },
 "nbformat": 4,
 "nbformat_minor": 2
}
